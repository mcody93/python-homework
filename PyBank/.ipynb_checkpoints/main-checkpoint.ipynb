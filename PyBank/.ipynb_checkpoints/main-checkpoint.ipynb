{
 "cells": [
  {
   "cell_type": "code",
   "execution_count": 20,
   "id": "8b1f1524-9474-415d-bee7-638c332529b1",
   "metadata": {},
   "outputs": [],
   "source": [
    "from pathlib import Path\n",
    "import csv\n",
    "\n",
    "#libraries"
   ]
  },
  {
   "cell_type": "code",
   "execution_count": 21,
   "id": "434ca40b-b223-4328-ba84-36b9f8d4af9c",
   "metadata": {},
   "outputs": [],
   "source": [
    "csvpath = Path(\"./budget_data.csv\")\n",
    "\n",
    "#establish path"
   ]
  },
  {
   "cell_type": "code",
   "execution_count": 22,
   "id": "7ad15227-60db-43c8-a7b0-1e4313aa1412",
   "metadata": {},
   "outputs": [],
   "source": [
    "Dates = []\n",
    "PnLs = []\n",
    "\n",
    "max_increase = 0\n",
    "min_decrease = 0\n",
    "max_increase_date = 0\n",
    "min_decrease_date = 0\n",
    "avg_PnL = 0\n",
    "total_PnL = 0\n",
    "total_months = 0\n",
    "previous_PnL = 0\n",
    "\n",
    "## initialize lists, set initial variables"
   ]
  },
  {
   "cell_type": "code",
   "execution_count": 23,
   "id": "c2a88f8c-24b1-45f9-b7b5-09e51d5ef594",
   "metadata": {},
   "outputs": [],
   "source": [
    "with open(csvpath, \"r\") as csvfile:\n",
    "       \n",
    "    csvreader = csv.reader(csvfile, delimiter=',')\n",
    "    header = next(csvreader)\n",
    "    first_row = next(csvreader)\n",
    "#opens the CSV skips header and first row from appending\n",
    "\n",
    "    total_months += 1\n",
    "    total_PnL = int(first_row[1])\n",
    "    previous_PnL = int(first_row[1])\n",
    "\n",
    "#setting up logic for total PnL and the net change calc in the for loop\n",
    "\n",
    "    for row in csvreader:\n",
    "        total_months +=1\n",
    "        total_PnL += int(row[1])\n",
    "        net_change = int(row[1]) - previous_PnL\n",
    "        previous_PnL = int(row[1])\n",
    "        PnLs.append(net_change)\n",
    "        Dates.append(row[0])\n",
    "        if net_change > max_increase:\n",
    "            max_increase = net_change\n",
    "            max_increase_date = row[0]\n",
    "        if net_change < min_decrease:\n",
    "            min_decrease = net_change\n",
    "            min_decrease_date = row[0]\n",
    "\n",
    "#for loop runs through data and calculates all applicable data points (max decrease, min decrease, respective dates, total PnL, total months, and total net change)\n",
    "\n",
    "avg_PnL = round(sum(PnLs) / len(PnLs),2)\n",
    "\n",
    "#calculate average by dividing the sum of the PnLs list by its count"
   ]
  },
  {
   "cell_type": "code",
   "execution_count": 24,
   "id": "cf00f91e-a522-4694-82f9-27a456453d82",
   "metadata": {},
   "outputs": [
    {
     "name": "stdout",
     "output_type": "stream",
     "text": [
      "Financial Analysis\n",
      "---------------------\n",
      "Total Months: 86\n",
      "Total: $38382578\n",
      "Average Change: $-2315.12\n",
      "Greatest Increase in Profits: Feb-2012 ($1926159)\n",
      "Greatest Increase in Profits: Sep-2013 ($-2196167)\n"
     ]
    }
   ],
   "source": [
    "print(f\"Financial Analysis\")\n",
    "print(f\"---------------------\")\n",
    "print(f\"Total Months: {total_months}\")\n",
    "print(f\"Total: ${total_PnL}\")\n",
    "print(f\"Average Change: ${avg_PnL}\")\n",
    "print(f\"Greatest Increase in Profits: {max_increase_date} (${max_increase})\")\n",
    "print(f\"Greatest Increase in Profits: {min_decrease_date} (${min_decrease})\")\n",
    "\n",
    "#prints to double check data"
   ]
  },
  {
   "cell_type": "code",
   "execution_count": 25,
   "id": "896b06dc-81ee-4c40-967d-956a1ca6da09",
   "metadata": {},
   "outputs": [],
   "source": [
    "output_path = Path(\"./ouput.txt\")\n",
    "\n",
    "with open(\"output.txt\", \"w\") as file:\n",
    "    file.write(\n",
    "    \"Financial Analysis\"\n",
    "    \"\\n---------------------\"\n",
    "    f\"\\nTotal Months: {total_months}\"\n",
    "    f\"\\nTotal: ${total_PnL}\"\n",
    "    f\"\\nAverage Change: ${avg_PnL}\"\n",
    "    f\"\\nGreatest Increase in Profits: {max_increase_date} (${max_increase})\"\n",
    "    f\"\\nGreatest Increase in Profits: {min_decrease_date} (${min_decrease})\")\n",
    "\n",
    "#print to a text file"
   ]
  }
 ],
 "metadata": {
  "kernelspec": {
   "display_name": "Python 3 (ipykernel)",
   "language": "python",
   "name": "python3"
  },
  "language_info": {
   "codemirror_mode": {
    "name": "ipython",
    "version": 3
   },
   "file_extension": ".py",
   "mimetype": "text/x-python",
   "name": "python",
   "nbconvert_exporter": "python",
   "pygments_lexer": "ipython3",
   "version": "3.7.13"
  }
 },
 "nbformat": 4,
 "nbformat_minor": 5
}
